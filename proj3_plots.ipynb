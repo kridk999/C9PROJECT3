{
 "cells": [
  {
   "cell_type": "code",
   "execution_count": 10,
   "metadata": {},
   "outputs": [],
   "source": [
    "import pandas as pd\n",
    "import numpy as np\n",
    "import matplotlib.pyplot as plt"
   ]
  },
  {
   "cell_type": "code",
   "execution_count": 11,
   "metadata": {},
   "outputs": [
    {
     "data": {
      "text/html": [
       "<div>\n",
       "<style scoped>\n",
       "    .dataframe tbody tr th:only-of-type {\n",
       "        vertical-align: middle;\n",
       "    }\n",
       "\n",
       "    .dataframe tbody tr th {\n",
       "        vertical-align: top;\n",
       "    }\n",
       "\n",
       "    .dataframe thead th {\n",
       "        text-align: right;\n",
       "    }\n",
       "</style>\n",
       "<table border=\"1\" class=\"dataframe\">\n",
       "  <thead>\n",
       "    <tr style=\"text-align: right;\">\n",
       "      <th></th>\n",
       "      <th>Unnamed: 0</th>\n",
       "      <th>A</th>\n",
       "      <th>B</th>\n",
       "      <th>C</th>\n",
       "      <th>D</th>\n",
       "    </tr>\n",
       "  </thead>\n",
       "  <tbody>\n",
       "    <tr>\n",
       "      <th>0</th>\n",
       "      <td>0</td>\n",
       "      <td>0.387472</td>\n",
       "      <td>-0.165719</td>\n",
       "      <td>0.159720</td>\n",
       "      <td>0.553191</td>\n",
       "    </tr>\n",
       "    <tr>\n",
       "      <th>1</th>\n",
       "      <td>1</td>\n",
       "      <td>2.200931</td>\n",
       "      <td>0.057570</td>\n",
       "      <td>1.044658</td>\n",
       "      <td>2.143362</td>\n",
       "    </tr>\n",
       "    <tr>\n",
       "      <th>2</th>\n",
       "      <td>2</td>\n",
       "      <td>0.592625</td>\n",
       "      <td>-0.213249</td>\n",
       "      <td>0.729121</td>\n",
       "      <td>0.805873</td>\n",
       "    </tr>\n",
       "    <tr>\n",
       "      <th>3</th>\n",
       "      <td>3</td>\n",
       "      <td>5.590732</td>\n",
       "      <td>-0.286676</td>\n",
       "      <td>2.680387</td>\n",
       "      <td>5.877409</td>\n",
       "    </tr>\n",
       "    <tr>\n",
       "      <th>4</th>\n",
       "      <td>4</td>\n",
       "      <td>0.322272</td>\n",
       "      <td>-0.153596</td>\n",
       "      <td>-0.386535</td>\n",
       "      <td>1.475868</td>\n",
       "    </tr>\n",
       "    <tr>\n",
       "      <th>...</th>\n",
       "      <td>...</td>\n",
       "      <td>...</td>\n",
       "      <td>...</td>\n",
       "      <td>...</td>\n",
       "      <td>...</td>\n",
       "    </tr>\n",
       "    <tr>\n",
       "      <th>95</th>\n",
       "      <td>95</td>\n",
       "      <td>0.964045</td>\n",
       "      <td>0.168651</td>\n",
       "      <td>-0.583882</td>\n",
       "      <td>0.795394</td>\n",
       "    </tr>\n",
       "    <tr>\n",
       "      <th>96</th>\n",
       "      <td>96</td>\n",
       "      <td>0.770550</td>\n",
       "      <td>-0.296496</td>\n",
       "      <td>-1.702878</td>\n",
       "      <td>1.067046</td>\n",
       "    </tr>\n",
       "    <tr>\n",
       "      <th>97</th>\n",
       "      <td>97</td>\n",
       "      <td>-0.564637</td>\n",
       "      <td>1.408363</td>\n",
       "      <td>-0.253048</td>\n",
       "      <td>-1.973000</td>\n",
       "    </tr>\n",
       "    <tr>\n",
       "      <th>98</th>\n",
       "      <td>98</td>\n",
       "      <td>0.889175</td>\n",
       "      <td>0.724945</td>\n",
       "      <td>0.000812</td>\n",
       "      <td>0.164230</td>\n",
       "    </tr>\n",
       "    <tr>\n",
       "      <th>99</th>\n",
       "      <td>99</td>\n",
       "      <td>0.757310</td>\n",
       "      <td>-0.376293</td>\n",
       "      <td>0.413289</td>\n",
       "      <td>1.133603</td>\n",
       "    </tr>\n",
       "  </tbody>\n",
       "</table>\n",
       "<p>100 rows × 5 columns</p>\n",
       "</div>"
      ],
      "text/plain": [
       "    Unnamed: 0         A         B         C         D\n",
       "0            0  0.387472 -0.165719  0.159720  0.553191\n",
       "1            1  2.200931  0.057570  1.044658  2.143362\n",
       "2            2  0.592625 -0.213249  0.729121  0.805873\n",
       "3            3  5.590732 -0.286676  2.680387  5.877409\n",
       "4            4  0.322272 -0.153596 -0.386535  1.475868\n",
       "..         ...       ...       ...       ...       ...\n",
       "95          95  0.964045  0.168651 -0.583882  0.795394\n",
       "96          96  0.770550 -0.296496 -1.702878  1.067046\n",
       "97          97 -0.564637  1.408363 -0.253048 -1.973000\n",
       "98          98  0.889175  0.724945  0.000812  0.164230\n",
       "99          99  0.757310 -0.376293  0.413289  1.133603\n",
       "\n",
       "[100 rows x 5 columns]"
      ]
     },
     "execution_count": 11,
     "metadata": {},
     "output_type": "execute_result"
    }
   ],
   "source": [
    "filename = \"data/data_761.csv\"\n",
    "\n",
    "df = pd.read_csv(filename)\n",
    "df"
   ]
  },
  {
   "cell_type": "code",
   "execution_count": 13,
   "metadata": {},
   "outputs": [
    {
     "data": {
      "text/plain": [
       "<matplotlib.collections.PathCollection at 0x12d773700>"
      ]
     },
     "execution_count": 13,
     "metadata": {},
     "output_type": "execute_result"
    },
    {
     "data": {
      "image/png": "[encoded data removed]",
      "text/plain": [
       "<Figure size 640x480 with 1 Axes>"
      ]
     },
     "metadata": {},
     "output_type": "display_data"
    }
   ],
   "source": [
    "\n",
    "plt.scatter(df[\"A\"], df[\"B\"])\n"
   ]
  }
 ],
 "metadata": {
  "kernelspec": {
   "display_name": "Fagprojekt",
   "language": "python",
   "name": "python3"
  },
  "language_info": {
   "codemirror_mode": {
    "name": "ipython",
    "version": 3
   },
   "file_extension": ".py",
   "mimetype": "text/x-python",
   "name": "python",
   "nbconvert_exporter": "python",
   "pygments_lexer": "ipython3",
   "version": "3.10.9"
  },
  "orig_nbformat": 4,
  "vscode": {
   "interpreter": {
    "hash": "519c1f0673ba03a526f963f95f3579972f1ff9821eebfa23d7bc8438f630eba8"
   }
  }
 },
 "nbformat": 4,
 "nbformat_minor": 2
}
